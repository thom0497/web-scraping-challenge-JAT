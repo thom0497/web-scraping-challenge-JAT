{
 "cells": [
  {
   "cell_type": "code",
   "execution_count": 84,
   "metadata": {},
   "outputs": [],
   "source": [
    "import pandas as pd\n",
    "from bs4 import BeautifulSoup as bs\n",
    "from splinter import Browser\n",
    "import requests"
   ]
  },
  {
   "cell_type": "code",
   "execution_count": 85,
   "metadata": {},
   "outputs": [],
   "source": [
    "#Setting up BeautifulSoup\n",
    "url = 'https://mars.nasa.gov'\n",
    "response = requests.get(url)\n",
    "soup = bs(response.text, 'html.parser')"
   ]
  },
  {
   "cell_type": "code",
   "execution_count": 86,
   "metadata": {},
   "outputs": [
    {
     "name": "stdout",
     "output_type": "stream",
     "text": [
      "\n",
      "\n",
      "Upcoming Launch of Mars Rover\n",
      "\n",
      "\n",
      "\n",
      "\n",
      "Perseverance is nearing its July 17 scheduled launch from Cape Canaveral, Florida. \n",
      "\n",
      "\n",
      "Launch Toolkit ›\n",
      "\n",
      "\n",
      "Watch Online ›\n",
      "\n",
      "\n",
      "\n"
     ]
    }
   ],
   "source": [
    "#Find the Feature articles title and description\n",
    "news_title = soup.find('h1', class_='media_feature_title').text\n",
    "news_p = soup.find('div', class_='description').text \n",
    "\n",
    "print(news_title)\n",
    "print(news_p)"
   ]
  },
  {
   "cell_type": "code",
   "execution_count": 87,
   "metadata": {
    "scrolled": false
   },
   "outputs": [],
   "source": [
    "#Set up the Chromedriver\n",
    "executable_path = {'executable_path': 'chromedriver.exe'}\n",
    "browser = Browser('chrome', **executable_path, headless=False)"
   ]
  },
  {
   "cell_type": "code",
   "execution_count": 88,
   "metadata": {},
   "outputs": [
    {
     "name": "stderr",
     "output_type": "stream",
     "text": [
      "C:\\Users\\brenn\\anaconda3\\envs\\pythondata\\lib\\site-packages\\splinter\\driver\\webdriver\\__init__.py:528: FutureWarning: browser.find_link_by_partial_text is deprecated. Use browser.links.find_by_partial_text instead.\n",
      "  FutureWarning,\n"
     ]
    }
   ],
   "source": [
    "#Use splinter to navigate to the correct page\n",
    "url = 'https://www.jpl.nasa.gov/spaceimages/?search=&category=Mars'\n",
    "browser.visit(url)\n",
    "browser.click_link_by_partial_text('FULL IMAGE')\n",
    "browser.click_link_by_partial_text('more info')"
   ]
  },
  {
   "cell_type": "code",
   "execution_count": 89,
   "metadata": {
    "scrolled": false
   },
   "outputs": [
    {
     "name": "stdout",
     "output_type": "stream",
     "text": [
      "https://www.jpl.nasa.gov//spaceimages/images/largesize/PIA17448_hires.jpg\n"
     ]
    }
   ],
   "source": [
    "#Use BeautifulSoup to get the image url\n",
    "response = requests.get(browser.url)\n",
    "soup = bs(response.text, 'html.parser')\n",
    "\n",
    "featured_image_url = soup.find('figure', class_='lede').\\\n",
    "    find('a')['href']\n",
    "\n",
    "print('https://www.jpl.nasa.gov/' + featured_image_url)"
   ]
  },
  {
   "cell_type": "code",
   "execution_count": 90,
   "metadata": {},
   "outputs": [],
   "source": [
    "#Setting up BeautifulSoup\n",
    "url = 'https://twitter.com/marswxreport?lang=en'\n",
    "response = requests.get(url)\n",
    "soup = bs(response.text, 'html.parser')"
   ]
  },
  {
   "cell_type": "code",
   "execution_count": 91,
   "metadata": {},
   "outputs": [
    {
     "name": "stdout",
     "output_type": "stream",
     "text": [
      "Something went wrong, but don’t fret — let’s give it another shot.\n"
     ]
    }
   ],
   "source": [
    "#Print the latest tweet\n",
    "tweet = soup.find('div', class_='css-901oao r-1adg3ll r-1b2b6em r-q4m81j').\\\n",
    "    find('span', class_='css-901oao css-16my406').text\n",
    "\n",
    "print(tweet)"
   ]
  },
  {
   "cell_type": "code",
   "execution_count": 92,
   "metadata": {},
   "outputs": [],
   "source": [
    "#Getting the first table\n",
    "url = 'https://space-facts.com/mars/'\n",
    "tables = pd.read_html(url)\n",
    "mars_table = tables[0]"
   ]
  },
  {
   "cell_type": "code",
   "execution_count": 93,
   "metadata": {},
   "outputs": [],
   "source": [
    "#Create and save the HTML file\n",
    "mars_html = mars_table.to_html()\n",
    "mars_html.replace('\\n', '')\n",
    "mars_table.to_html('mars_table.html')"
   ]
  },
  {
   "cell_type": "code",
   "execution_count": null,
   "metadata": {},
   "outputs": [],
   "source": []
  }
 ],
 "metadata": {
  "kernelspec": {
   "display_name": "Python 3",
   "language": "python",
   "name": "python3"
  },
  "language_info": {
   "codemirror_mode": {
    "name": "ipython",
    "version": 3
   },
   "file_extension": ".py",
   "mimetype": "text/x-python",
   "name": "python",
   "nbconvert_exporter": "python",
   "pygments_lexer": "ipython3",
   "version": "3.6.10"
  }
 },
 "nbformat": 4,
 "nbformat_minor": 4
}
